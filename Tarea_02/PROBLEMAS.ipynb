{
  "nbformat": 4,
  "nbformat_minor": 0,
  "metadata": {
    "colab": {
      "provenance": []
    },
    "kernelspec": {
      "name": "python3",
      "display_name": "Python 3"
    },
    "language_info": {
      "name": "python"
    }
  },
  "cells": [
    {
      "cell_type": "code",
      "execution_count": 1,
      "metadata": {
        "colab": {
          "base_uri": "https://localhost:8080/"
        },
        "id": "4EJx0V69EPmM",
        "outputId": "6a09612e-c34d-47b4-8ed4-097285792a29"
      },
      "outputs": [
        {
          "output_type": "stream",
          "name": "stdout",
          "text": [
            "1\n",
            "2\n",
            "3\n",
            "4\n",
            "5\n",
            "6\n",
            "7\n",
            "8\n",
            "9\n",
            "10\n",
            "11\n",
            "12\n",
            "13\n",
            "14\n",
            "15\n",
            "16\n",
            "17\n",
            "18\n",
            "19\n",
            "20\n",
            "21\n",
            "22\n",
            "23\n",
            "24\n",
            "25\n",
            "26\n",
            "27\n",
            "28\n",
            "29\n",
            "30\n",
            "31\n",
            "32\n",
            "33\n",
            "34\n",
            "35\n",
            "36\n",
            "37\n",
            "38\n",
            "39\n",
            "40\n",
            "41\n",
            "42\n",
            "43\n",
            "44\n",
            "45\n",
            "46\n",
            "47\n",
            "48\n",
            "49\n",
            "50\n",
            "51\n",
            "52\n",
            "53\n",
            "54\n",
            "55\n",
            "56\n",
            "57\n",
            "58\n",
            "59\n",
            "60\n",
            "61\n",
            "62\n",
            "63\n",
            "64\n",
            "65\n",
            "66\n",
            "67\n",
            "68\n",
            "69\n",
            "70\n",
            "71\n",
            "72\n",
            "73\n",
            "74\n",
            "75\n",
            "76\n",
            "77\n",
            "78\n",
            "79\n",
            "80\n",
            "81\n",
            "82\n",
            "83\n",
            "84\n",
            "85\n",
            "86\n",
            "87\n",
            "88\n",
            "89\n",
            "90\n",
            "91\n",
            "92\n",
            "93\n",
            "94\n",
            "95\n",
            "96\n",
            "97\n",
            "98\n",
            "99\n",
            "100\n"
          ]
        }
      ],
      "source": [
        "# Problema 1: Imprimir los números del 1 al 100\n",
        "\n",
        "# Utilizamos un bucle for para recorrer del 1 al 100\n",
        "for num in range(1, 101):\n",
        "    print(num)\n"
      ]
    },
    {
      "cell_type": "code",
      "source": [
        "# Problema 2: Imprimir números del 1 al 100 que sean divisibles entre 3\n",
        "\n",
        "# Bucle for para recorrer del 1 al 100\n",
        "for num in range(1, 101):\n",
        "    if num % 3 == 0:  # Verificamos si el número es divisible entre 3\n",
        "        print(num)\n"
      ],
      "metadata": {
        "colab": {
          "base_uri": "https://localhost:8080/"
        },
        "id": "7rm-615FEmdb",
        "outputId": "90262c0f-06b9-4d5c-e540-7a89497c280f"
      },
      "execution_count": 2,
      "outputs": [
        {
          "output_type": "stream",
          "name": "stdout",
          "text": [
            "3\n",
            "6\n",
            "9\n",
            "12\n",
            "15\n",
            "18\n",
            "21\n",
            "24\n",
            "27\n",
            "30\n",
            "33\n",
            "36\n",
            "39\n",
            "42\n",
            "45\n",
            "48\n",
            "51\n",
            "54\n",
            "57\n",
            "60\n",
            "63\n",
            "66\n",
            "69\n",
            "72\n",
            "75\n",
            "78\n",
            "81\n",
            "84\n",
            "87\n",
            "90\n",
            "93\n",
            "96\n",
            "99\n"
          ]
        }
      ]
    },
    {
      "cell_type": "code",
      "source": [
        "# Problema 3: Sumador y comparador de dos números\n",
        "\n",
        "# Solicitamos dos números al usuario\n",
        "numero1 = int(input(\"Ingresa el primer número: \"))\n",
        "numero2 = int(input(\"Ingresa el segundo número: \"))\n",
        "\n",
        "# Calculamos la suma de los números\n",
        "suma = numero1 + numero2\n",
        "\n",
        "# Comparación según el valor de la suma\n",
        "if suma < 100:\n",
        "    print(\"La suma es menor a 100\")\n",
        "elif 100 <= suma < 150:\n",
        "    print(\"La suma es mayor a 100 y menor a 150\")\n",
        "else:\n",
        "    print(\"La suma es mayor a 150\")\n"
      ],
      "metadata": {
        "colab": {
          "base_uri": "https://localhost:8080/"
        },
        "id": "BImvsbpCEs78",
        "outputId": "a6bbd261-d7e7-47f0-dffc-e24a435e44e1"
      },
      "execution_count": 3,
      "outputs": [
        {
          "output_type": "stream",
          "name": "stdout",
          "text": [
            "Ingresa el primer número: 5\n",
            "Ingresa el segundo número: 20\n",
            "La suma es menor a 100\n"
          ]
        }
      ]
    },
    {
      "cell_type": "code",
      "source": [
        "# Problema 4: Evaluador de edad y gusto por la programación\n",
        "\n",
        "# Solicitar la edad al usuario\n",
        "edad = int(input(\"Ingresa tu edad: \"))\n",
        "\n",
        "# Solicitar si le gusta programar al usuario (debe ingresar 'True' o 'False')\n",
        "gusta_programar = input(\"¿Te gusta programar? (escribe True o False): \").strip().lower() == 'true'\n",
        "\n",
        "# Condicional que evalúa si es mayor de edad y le gusta programar\n",
        "if edad > 18 and gusta_programar:\n",
        "    promedio = \"Eres mayor de edad y te gusta programar\"\n",
        "else:\n",
        "    promedio = \"No eres mayor de edad o no te gusta programar\"\n",
        "\n",
        "# Imprimir el resultado\n",
        "print(promedio)\n",
        "\n"
      ],
      "metadata": {
        "colab": {
          "base_uri": "https://localhost:8080/"
        },
        "id": "0munk5qHFp9D",
        "outputId": "13412f62-c234-46f5-b57c-22ee017bd02e"
      },
      "execution_count": 5,
      "outputs": [
        {
          "output_type": "stream",
          "name": "stdout",
          "text": [
            "Ingresa tu edad: 23\n",
            "¿Te gusta programar? (escribe True o False): True\n",
            "Eres mayor de edad y te gusta programar\n"
          ]
        }
      ]
    },
    {
      "cell_type": "code",
      "source": [],
      "metadata": {
        "id": "hYWXiFPrFrfg"
      },
      "execution_count": null,
      "outputs": []
    }
  ]
}
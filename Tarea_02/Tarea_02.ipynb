{
  "nbformat": 4,
  "nbformat_minor": 0,
  "metadata": {
    "colab": {
      "provenance": []
    },
    "kernelspec": {
      "name": "python3",
      "display_name": "Python 3"
    },
    "language_info": {
      "name": "python"
    }
  },
  "cells": [
    {
      "cell_type": "code",
      "execution_count": null,
      "metadata": {
        "id": "jc0LEXyWxb1j"
      },
      "outputs": [],
      "source": []
    },
    {
      "cell_type": "markdown",
      "source": [
        "**Problema 1:** necesitamos imprimir todos los números del 1 al 100. Para hacerlo, utilizamos un bucle for que itera desde el número 1 hasta el número 100, ambos incluidos. En Python, el rango se define mediante la función range(start, stop), donde el valor de inicio está incluido y el valor de final está excluido. Así que usamos range(1, 101) para incluir el número 100 en la salida."
      ],
      "metadata": {
        "id": "AaHCYYt1yVUn"
      }
    },
    {
      "cell_type": "code",
      "source": [
        "for i in range(1, 101):\n",
        "    print(i)\n"
      ],
      "metadata": {
        "colab": {
          "base_uri": "https://localhost:8080/"
        },
        "id": "kumatuYeybH1",
        "outputId": "dbf1d27d-8348-40d5-eae1-1538a682cfc3"
      },
      "execution_count": 1,
      "outputs": [
        {
          "output_type": "stream",
          "name": "stdout",
          "text": [
            "1\n",
            "2\n",
            "3\n",
            "4\n",
            "5\n",
            "6\n",
            "7\n",
            "8\n",
            "9\n",
            "10\n",
            "11\n",
            "12\n",
            "13\n",
            "14\n",
            "15\n",
            "16\n",
            "17\n",
            "18\n",
            "19\n",
            "20\n",
            "21\n",
            "22\n",
            "23\n",
            "24\n",
            "25\n",
            "26\n",
            "27\n",
            "28\n",
            "29\n",
            "30\n",
            "31\n",
            "32\n",
            "33\n",
            "34\n",
            "35\n",
            "36\n",
            "37\n",
            "38\n",
            "39\n",
            "40\n",
            "41\n",
            "42\n",
            "43\n",
            "44\n",
            "45\n",
            "46\n",
            "47\n",
            "48\n",
            "49\n",
            "50\n",
            "51\n",
            "52\n",
            "53\n",
            "54\n",
            "55\n",
            "56\n",
            "57\n",
            "58\n",
            "59\n",
            "60\n",
            "61\n",
            "62\n",
            "63\n",
            "64\n",
            "65\n",
            "66\n",
            "67\n",
            "68\n",
            "69\n",
            "70\n",
            "71\n",
            "72\n",
            "73\n",
            "74\n",
            "75\n",
            "76\n",
            "77\n",
            "78\n",
            "79\n",
            "80\n",
            "81\n",
            "82\n",
            "83\n",
            "84\n",
            "85\n",
            "86\n",
            "87\n",
            "88\n",
            "89\n",
            "90\n",
            "91\n",
            "92\n",
            "93\n",
            "94\n",
            "95\n",
            "96\n",
            "97\n",
            "98\n",
            "99\n",
            "100\n"
          ]
        }
      ]
    },
    {
      "cell_type": "markdown",
      "source": [
        "**Problema 2: **  En este problema, necesitamos imprimir solo aquellos números entre 1 y 100 que sean divisibles por 3. Utilizamos nuevamente un bucle for, pero añadimos una condición if que verifica si el número es divisible por 3 utilizando el operador %. Este operador devuelve el residuo de la división. Si el residuo es 0, significa que el número es divisible por 3 y, por lo tanto, debe ser impreso."
      ],
      "metadata": {
        "id": "3eUiWq-Yy2eE"
      }
    },
    {
      "cell_type": "code",
      "source": [
        "for i in range(1, 101):\n",
        "    if i % 3 == 0:\n",
        "        print(i)\n"
      ],
      "metadata": {
        "colab": {
          "base_uri": "https://localhost:8080/"
        },
        "id": "R7d19ixEy_c_",
        "outputId": "8f0aef4c-e148-45c0-b96e-2a2d959e9500"
      },
      "execution_count": 2,
      "outputs": [
        {
          "output_type": "stream",
          "name": "stdout",
          "text": [
            "3\n",
            "6\n",
            "9\n",
            "12\n",
            "15\n",
            "18\n",
            "21\n",
            "24\n",
            "27\n",
            "30\n",
            "33\n",
            "36\n",
            "39\n",
            "42\n",
            "45\n",
            "48\n",
            "51\n",
            "54\n",
            "57\n",
            "60\n",
            "63\n",
            "66\n",
            "69\n",
            "72\n",
            "75\n",
            "78\n",
            "81\n",
            "84\n",
            "87\n",
            "90\n",
            "93\n",
            "96\n",
            "99\n"
          ]
        }
      ]
    },
    {
      "cell_type": "markdown",
      "source": [
        "**Problema 3:** Este problema implica realizar la suma de dos números y luego evaluar el resultado para determinar si es menor a 100, mayor a 100 pero menor a 150, o mayor a 150. Primero solicitamos los dos números al usuario utilizando la función input(), que convierte los valores ingresados en enteros mediante int(). Después sumamos ambos números y usamos condicionales anidados if-elif-else para comparar el resultado con los límites especificados (100 y 150). Dependiendo del valor, el programa imprime el mensaje correspondiente."
      ],
      "metadata": {
        "id": "XxRwB5eHzMpn"
      }
    },
    {
      "cell_type": "code",
      "source": [
        "numero1 = int(input(\"Ingresa el primer número: \"))\n",
        "numero2 = int(input(\"Ingresa el segundo número: \"))\n",
        "\n",
        "suma = numero1 + numero2\n",
        "\n",
        "if suma < 100:\n",
        "    print(\"El resultado es menor a 100\")\n",
        "elif 100 < suma < 150:\n",
        "    print(\"El resultado es mayor a 100 y menor a 150\")\n",
        "else:\n",
        "    print(\"El resultado es mayor a 150\")\n"
      ],
      "metadata": {
        "colab": {
          "base_uri": "https://localhost:8080/"
        },
        "id": "Y5s1rR2EzZGB",
        "outputId": "19929256-0b35-4a22-8090-1a18e7a82717"
      },
      "execution_count": 4,
      "outputs": [
        {
          "output_type": "stream",
          "name": "stdout",
          "text": [
            "Ingresa el primer número: 5\n",
            "Ingresa el segundo número: 20\n",
            "El resultado es menor a 100\n"
          ]
        }
      ]
    },
    {
      "cell_type": "markdown",
      "source": [
        "**Problema 4:** Este problema nos pide combinar variables, tipos de datos y una condicional. El programa debe verificar si el usuario es mayor de edad y si le gusta programar. Primero solicitamos dos inputs: la edad del usuario (un número entero) y si le gusta programar (una respuesta de sí o no). Convertimos esta respuesta a un valor booleano usando lower() para convertir el texto a minúsculas y comparar con la respuesta \"sí\". Luego utilizamos una condicional para evaluar si el usuario cumple ambas condiciones. Dependiendo del resultado, imprimimos uno de los dos mensajes solicitados."
      ],
      "metadata": {
        "id": "kq-IX3KWzcQB"
      }
    },
    {
      "cell_type": "code",
      "source": [
        "edad = int(input(\"¿Cuál es tu edad? \"))\n",
        "gusta_programar = input(\"¿Te gusta programar? (Responde con sí o no): \")\n",
        "\n",
        "gusta_programar = gusta_programar.lower() == \"sí\"\n",
        "\n",
        "if edad > 18 and gusta_programar:\n",
        "    print(\"Eres mayor de edad y te gusta programar.\")\n",
        "else:\n",
        "    print(\"No eres mayor de edad o no te gusta programar.\")\n"
      ],
      "metadata": {
        "colab": {
          "base_uri": "https://localhost:8080/"
        },
        "id": "VSqybcb0zlId",
        "outputId": "fc3d550f-7964-45a7-886d-9b677f03f291"
      },
      "execution_count": 3,
      "outputs": [
        {
          "output_type": "stream",
          "name": "stdout",
          "text": [
            "¿Cuál es tu edad? 23\n",
            "¿Te gusta programar? (Responde con sí o no): sí\n",
            "Eres mayor de edad y te gusta programar.\n"
          ]
        }
      ]
    }
  ]
}